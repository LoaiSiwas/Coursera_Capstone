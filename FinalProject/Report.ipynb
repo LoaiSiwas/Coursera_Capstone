{
 "cells": [
  {
   "cell_type": "markdown",
   "metadata": {},
   "source": [
    "# Living in the City of Eindhoven"
   ]
  },
  {
   "cell_type": "markdown",
   "metadata": {},
   "source": [
    "Capstone project by Peter van Liesdonk"
   ]
  },
  {
   "cell_type": "markdown",
   "metadata": {},
   "source": [
    "## Introduction"
   ]
  },
  {
   "cell_type": "markdown",
   "metadata": {},
   "source": [
    "For the last few years I have been living in the city of Eindhoven, a small provincial town in the south of the Netherland and mostly known\n",
    "for its high tech industries. For this reason it is sometimes called Silicon Valley of the Netherlands.\n",
    "I like living here, and I'm living in a great neighbourhood. Unfortunately I cannot stay here: I'm currently residing in a social housing\n",
    "project, and I'm getting too rich to stay here. I know: luxury problem.\n",
    "\n",
    "So where in this city will I buy a new house? \n",
    "\n",
    "To figure this out I want to compare the various neighbourhoods in Eindhoven to see how similar they are, and finally figure out if there is a neighbourhood similar to mine where I could also live.\n",
    "I will do this based on the different venues and ammenities available in the direct vicinity of the various neighbourhoods.\n",
    "\n",
    "As in the course, I'd like to cluster neighbourhoods on similarity and show them on a map. Then I'd also like to create a decision tree that can show me the most important factors for choosing a certain neighbourhood."
   ]
  },
  {
   "cell_type": "markdown",
   "metadata": {},
   "source": [
    "## Data"
   ]
  },
  {
   "cell_type": "markdown",
   "metadata": {},
   "source": [
    "To know more about Eindhoven I need as much data as possible. I found the following interesting datasets:\n",
    "\n",
    "* A list of neighbourhoods in Eindhoven at [https://data.eindhoven.nl/explore/dataset/buurten/export/]. This includes\n",
    "  * Name of neighbourhood (buurt), residential areas (wijken) and boroughs (stadsdeel) within Eindhoven,\n",
    "  * their geographic coordinates,\n",
    "  * their borders in GeoJSON format. \n",
    "* A table of key figures about the various neighbourhoods [https://opendata.cbs.nl/statline/#/CBS/nl/dataset/84286NED/table?ts=1546775064672], which includes things like\n",
    "  * population,\n",
    "  * population density, \n",
    "  * area,\n",
    "  * amount of house\n",
    "* A table of distances to popular amenities [https://opendata.cbs.nl/statline/#/CBS/nl/dataset/80306ned/table?ts=1546776064982], including distances like:\n",
    "  * distance to park or forest,\n",
    "  * distance to supermarket.\n",
    "\n",
    "Of particular difficulty in using these datasets might be matching up the tables, as there are no official names to each of the neighbourhoods.\n",
    "\n",
    "\n",
    "In addition I will use Foursquare to find popular venues close to each of the neighbourhoods. Using Foursquare might mean that I do not actually need the last of the tables above.  Another difficulty might be the sparsity of information on Foursquare, since Foursquare is not very popular in the Netherlands.\n"
   ]
  },
  {
   "cell_type": "markdown",
   "metadata": {},
   "source": [
    "## Methodology\n"
   ]
  },
  {
   "cell_type": "markdown",
   "metadata": {},
   "source": [
    "### Exploring the dataset"
   ]
  },
  {
   "cell_type": "markdown",
   "metadata": {},
   "source": [
    "We start by importing the first dataset, a list of neighbourhoods and their geographic position from [https://data.eindhoven.nl/explore/dataset/buurten/export/]. After importing in Pandas and cleaning up some of the column names we get a dataset that looks as follows:\n",
    "\n",
    "<img src=\"figs/buurten.png\"/>"
   ]
  },
  {
   "cell_type": "markdown",
   "metadata": {},
   "source": [
    "Imporing the key figures dataset from [https://opendata.cbs.nl/statline/#/CBS/nl/dataset/84286NED/table?ts=1546775064672] gives us the following columns.\n",
    "\n",
    "`['Wijken en buurten', 'Gemeentenaam', 'Soort regio', 'Codering',\n",
    "       'Indelingswijziging wijken en buurten', 'Inwoners',\n",
    "       'Inwoners 15 tot 25 jaar', 'Inwoners Westers totaal',\n",
    "       'Inwoners Nederlandse Antillen en Aruba', 'Eenpersoonshuishoudens',\n",
    "       'Bevolkingsdichtheid', 'Woningvoorraad', 'Percentage meergezinswoning',\n",
    "       'Personenauto's; brandstof benzine', 'Motorfietsen', 'Oppervlakte',\n",
    "       'Mate van stedelijkheid', 'Omgevingsadressendichtheid'] `\n",
    "       \n",
    "This requires some more cleanup. \n",
    "\n",
    "First of all we only want neighbourhoods (wijken) while this dataset also has aggregated information. This can be done by filtering on the 'Soort Regio' column.\n",
    "\n",
    "Secondly, not all data is relevant. We decide to filter only the following columns, since they seem to be the most relevant to the problem at hand:\n",
    "\n",
    "* Wijken en buurten:  the neighbourhood name\n",
    "* Bevolkingsdichtheid: population density.\n",
    "* Mate van stedelijkheid: Urbanization, how city-like is the neighbourhood\n",
    "* Omgevingsadressendichtheid: How many addresses per square km\n",
    "\n",
    "After cleanup we get the following results that still gave NaN values:\n",
    "\n",
    "<img src=\"figs/nans.png\"/>\n",
    "\n",
    "We know all of these are industrial areas, and replace the NaNs with 0.\n",
    "When we merge with the previous dataset, we get the following result:\n",
    "\n",
    "<img src=\"figs/kerncijfers.png\"/>"
   ]
  },
  {
   "cell_type": "markdown",
   "metadata": {},
   "source": [
    "### Putting Eindhoven on a map"
   ]
  },
  {
   "cell_type": "markdown",
   "metadata": {},
   "source": [
    "We can now compile a simple map that shows the different neighbourhoods in a Choropeth map, showing the population density.\n",
    "\n",
    "This map immediately shows something interesting: four neighbourhoods with no population density.\n",
    "This makes sense: one is an airport, two are industrial areas and the last one consists only of nature.\n",
    "\n",
    "<img src=\"figs/choropleth.png\"/>"
   ]
  },
  {
   "cell_type": "markdown",
   "metadata": {},
   "source": [
    "### Venues from Foursquare"
   ]
  },
  {
   "cell_type": "markdown",
   "metadata": {},
   "source": [
    "Next, we want to get a list of interesting venues from Foursquare. Since we are deciding in which neighbourhood we want to live, it doesn't actually matter whether the found venue is in the neighbourhood we are searching for, only that it is close by. As such we can use a RADIUS restriction. We put it on 500m, since that is approximately the maximum distance I'm willing to walk.\n",
    "\n",
    "This gives us a dataframe of venues as follows. This frame contains many duplicates, which are venues that fall within the readius of multiple neighbourhoods.\n",
    "\n",
    "<img src=\"figs/venues.png\"/>\n",
    "\n",
    "We can put all the found venues on the map as follows:\n",
    "\n",
    "<img src=\"figs/allvenues.png\"/>"
   ]
  },
  {
   "cell_type": "markdown",
   "metadata": {},
   "source": [
    "### Clustering neighbourhoods"
   ]
  },
  {
   "cell_type": "markdown",
   "metadata": {},
   "source": [
    "Next, we want to cluster all of the neighbourhoods. We will be using a K-means clustering algorithm.\n",
    "In order to do this, we first turn the venues dataframe into one-hot notation and sum how often each venue occurs for each neighbourhood. To this we add population density, urbanization and housing density figures.\n",
    "\n",
    "To find an optimal value for $k$, we run the clustering algorithm for various values and plot the silhouette score.\n",
    "<img src=\"figs/kmeans.png\"/>\n",
    "\n",
    "We immediately see there is no clear choice for $k$. Choosing $k=2$ (the maximum) doesn't give any real insight. We decide to go for $k=11$, which is a local optimum and might provide interesting insights.\n",
    "\n",
    "This results in the following clustering:\n",
    "\n",
    "<img src=\"figs/clustermap.png\"/>"
   ]
  },
  {
   "cell_type": "markdown",
   "metadata": {},
   "source": [
    "### Decision Tree"
   ]
  },
  {
   "cell_type": "markdown",
   "metadata": {},
   "source": [
    "Finally we want to build a decision tree in order to figure in which type of neighbourhood I should live.\n",
    "\n",
    "We train a decision tree using the existence of certain venues as training data in order to predict the cluster labels we found above.\n",
    "This gives the following result:\n",
    "\n",
    "<img src=\"figs/decision.svg\"/>"
   ]
  },
  {
   "cell_type": "markdown",
   "metadata": {},
   "source": [
    "## Results"
   ]
  },
  {
   "cell_type": "markdown",
   "metadata": {},
   "source": [
    "## Discussion"
   ]
  },
  {
   "cell_type": "markdown",
   "metadata": {},
   "source": [
    "Discussion section where you discuss any observations you noted and any recommendations you can make based on the results."
   ]
  },
  {
   "cell_type": "markdown",
   "metadata": {},
   "source": [
    "## Conclusion"
   ]
  },
  {
   "cell_type": "markdown",
   "metadata": {},
   "source": [
    "Conclusion section where you conclude the report."
   ]
  },
  {
   "cell_type": "code",
   "execution_count": null,
   "metadata": {},
   "outputs": [],
   "source": []
  }
 ],
 "metadata": {
  "kernelspec": {
   "display_name": "Python 3",
   "language": "python",
   "name": "python3"
  },
  "language_info": {
   "codemirror_mode": {
    "name": "ipython",
    "version": 3
   },
   "file_extension": ".py",
   "mimetype": "text/x-python",
   "name": "python",
   "nbconvert_exporter": "python",
   "pygments_lexer": "ipython3",
   "version": "3.6.7"
  }
 },
 "nbformat": 4,
 "nbformat_minor": 2
}
